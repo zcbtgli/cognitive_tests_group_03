{
 "cells": [
  {
   "cell_type": "code",
   "execution_count": 5,
   "id": "87e43565",
   "metadata": {},
   "outputs": [],
   "source": [
    "from IPython. display import display, HTML, Image, clear_output\n",
    "import time\n",
    "import random"
   ]
  },
  {
   "cell_type": "code",
   "execution_count": 24,
   "id": "1876d343",
   "metadata": {},
   "outputs": [],
   "source": [
    "def display_grid(image):\n",
    "    img = Image(image)\n",
    "    display(img)\n",
    "    time.sleep(1)  # Display the image for 3 seconds\n",
    "    clear_output()"
   ]
  },
  {
   "cell_type": "code",
   "execution_count": 25,
   "id": "0752164f",
   "metadata": {},
   "outputs": [],
   "source": [
    "def ask_question(question, correct_answer):\n",
    "    answer = input(question)\n",
    "    \n",
    "    return answer.lower() == correct_answer.lower()"
   ]
  },
  {
   "cell_type": "code",
   "execution_count": 26,
   "id": "88a21683",
   "metadata": {},
   "outputs": [],
   "source": [
    "def main():\n",
    "    image = './SHAPES/Capture.PNG'\n",
    "  # Ask the user a question\n",
    "    questions = {\n",
    "        \"What color was the circle? \": \"blue\",\n",
    "        \"What shape was above the star? \": \"square\",\n",
    "        \"Which shape was pink? \": \"circle\",\n",
    "        \"What shape was between the pentagon and triangle? \": \"star\",\n",
    "        \"What shape was in the indicated position? \": \"triangle\"\n",
    "    }\n",
    "    \n",
    "   # Ask the user questions about the grid\n",
    "    for question in questions:\n",
    "        # Display the image\n",
    "        display_grid(image)\n",
    "\n",
    "        # Ask the user a question\n",
    "\n",
    "        # You can now check the user's answer against the expected answer\n",
    "        # and provide feedback or calculate the score based on correctness.\n",
    "\n",
    "        # For example, let's assume the correct answer for the current question is:\n",
    "        if ask_question(question, questions[question]):\n",
    "            print(\"Correct!\")\n",
    "        else:\n",
    "            print(f\"Wrong! The correct answer is {questions[question]}.\")\n",
    "\n",
    "    print(\"End of the game!\")"
   ]
  },
  {
   "cell_type": "code",
   "execution_count": null,
   "id": "1451926f",
   "metadata": {},
   "outputs": [],
   "source": [
    "main()"
   ]
  },
  {
   "cell_type": "code",
   "execution_count": null,
   "id": "4297fd9b",
   "metadata": {},
   "outputs": [],
   "source": []
  }
 ],
 "metadata": {
  "kernelspec": {
   "display_name": "Python 3 (ipykernel)",
   "language": "python",
   "name": "python3"
  },
  "language_info": {
   "codemirror_mode": {
    "name": "ipython",
    "version": 3
   },
   "file_extension": ".py",
   "mimetype": "text/x-python",
   "name": "python",
   "nbconvert_exporter": "python",
   "pygments_lexer": "ipython3",
   "version": "3.10.9"
  }
 },
 "nbformat": 4,
 "nbformat_minor": 5
}
