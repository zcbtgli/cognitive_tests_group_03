{
 "cells": [
  {
   "cell_type": "code",
   "execution_count": null,
   "id": "e127f8c6-80ca-4c3e-b317-6bf51ec7cdd8",
   "metadata": {},
   "outputs": [
    {
     "name": "stdout",
     "output_type": "stream",
     "text": [
      "This is an ANS test to test your number estimati skill. \n",
      "             Try you best to recognized which side ellipse contain more dots.\n",
      "             The time will be recorded and try best to give a correct answer.\n",
      "             There will be four level in this test and each test contain 10 question.\n",
      "             PLEASE give some patients to the question come out then input your answer.\n",
      "             Good luck and enjoy:)\n",
      "Please read:\n",
      "\n",
      "we wish to record your response data\n",
      "to an anonymised public data repository. \n",
      "Your data will be used for educational teaching purposes\n",
      "practising data analysis and visualisation.\n",
      "\n",
      "Please type   yes   in the box below if you consent to the upload.\n"
     ]
    }
   ],
   "source": [
    "%run ANS_Test.py"
   ]
  },
  {
   "cell_type": "code",
   "execution_count": null,
   "id": "9e447761-51aa-4420-af66-c58fe71680d2",
   "metadata": {},
   "outputs": [],
   "source": []
  }
 ],
 "metadata": {
  "kernelspec": {
   "display_name": "Python 3 (ipykernel)",
   "language": "python",
   "name": "python3"
  },
  "language_info": {
   "codemirror_mode": {
    "name": "ipython",
    "version": 3
   },
   "file_extension": ".py",
   "mimetype": "text/x-python",
   "name": "python",
   "nbconvert_exporter": "python",
   "pygments_lexer": "ipython3",
   "version": "3.10.9"
  }
 },
 "nbformat": 4,
 "nbformat_minor": 5
}
