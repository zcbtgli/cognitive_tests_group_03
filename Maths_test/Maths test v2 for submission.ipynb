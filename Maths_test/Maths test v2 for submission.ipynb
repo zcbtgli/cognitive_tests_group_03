{
 "cells": [
  {
   "cell_type": "code",
   "execution_count": 2,
   "id": "a14ae89c-1104-470b-a256-3b89d985da70",
   "metadata": {},
   "outputs": [
    {
     "data": {
      "application/vnd.jupyter.widget-view+json": {
       "model_id": "aa6e78fd327f424b9177e24e6aa28579",
       "version_major": 2,
       "version_minor": 0
      },
      "text/plain": [
       "Text(value='', description='Enter answer:', style=TextStyle(description_width='initial'))"
      ]
     },
     "metadata": {},
     "output_type": "display_data"
    },
    {
     "name": "stdout",
     "output_type": "stream",
     "text": [
      "Maths Ability Test stopped.\n"
     ]
    }
   ],
   "source": [
    "%run \"maths test code v2.py\""
   ]
  },
  {
   "cell_type": "code",
   "execution_count": null,
   "id": "eb3d3c5f-b618-42dd-8202-fad11a04ded7",
   "metadata": {},
   "outputs": [],
   "source": []
  }
 ],
 "metadata": {
  "kernelspec": {
   "display_name": "Python 3 (ipykernel)",
   "language": "python",
   "name": "python3"
  },
  "language_info": {
   "codemirror_mode": {
    "name": "ipython",
    "version": 3
   },
   "file_extension": ".py",
   "mimetype": "text/x-python",
   "name": "python",
   "nbconvert_exporter": "python",
   "pygments_lexer": "ipython3",
   "version": "3.8.18"
  }
 },
 "nbformat": 4,
 "nbformat_minor": 5
}
