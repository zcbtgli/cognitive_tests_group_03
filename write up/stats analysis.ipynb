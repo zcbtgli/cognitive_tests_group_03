{
 "cells": [
  {
   "cell_type": "code",
   "execution_count": 105,
   "id": "559a0caa-ba12-4cac-aa6e-0625bc200f21",
   "metadata": {},
   "outputs": [],
   "source": [
    "import pandas as pd\n",
    "import matplotlib.pyplot as plt\n",
    "import scipy.stats as stats\n",
    "import numpy as np\n",
    "\n",
    "def create_gender_boxplots(test_type, csv_file, correct_answers):\n",
    "\n",
    "    # Data is sorted.\n",
    "    dataframe= pd.read_csv(csv_file)    \n",
    "    dataframe_sorted= dataframe.sort_values(\"gender\", ascending= True)\n",
    "    female_dataframe= dataframe_sorted[dataframe_sorted[\"gender\"]== \"f\"]\n",
    "    male_dataframe= dataframe_sorted[dataframe_sorted[\"gender\"]== \"m\"]\n",
    "\n",
    "    # Graph is plotted.\n",
    "    fig, ax= plt.subplots()\n",
    "    ax.boxplot([female_dataframe[correct_answers], male_dataframe[correct_answers]])\n",
    "    ax.set_xlabel(\"Gender\")\n",
    "    ax.set_ylabel(f\"Number of Correct Answers in {test_type} Test\")\n",
    "    ax.set_xticklabels([\"Female\", \"Male\"])\n",
    "    ax.set_title(f\"Spread of Correct Answers of Male and Female {test_type} Test Takers\")\n",
    "    plt.show()    \n",
    "    save= input(\"Type yes if you want to save your boxplot.\")\n",
    "    \n",
    "    if save== \"yes\":\n",
    "        fig.savefig(f\"{test_type} Test Gender Boxplot\")\n",
    "        \n",
    "    else:\n",
    "        return\n",
    "   \n",
    "\n",
    "def t_test_between_genders(test_type, csv_file, correct_answers):\n",
    "    \n",
    "    t_test_table= {\n",
    "        \"Test\": [],\n",
    "        \"Mean score male\": [],\n",
    "        \"Male standard error\": [],\n",
    "        \"Mean score female\": [],\n",
    "        \"Female standard error\": [],\n",
    "        \"Difference in score\": [],\n",
    "        \"P value\": []\n",
    "    }\n",
    "    # Layout is similar to the above function.\n",
    "    dataframe= pd.read_csv(csv_file)    \n",
    "    dataframe_sorted= dataframe.sort_values(\"gender\", ascending= True)\n",
    "    female_dataframe= dataframe_sorted[dataframe_sorted[\"gender\"]== \"f\"]\n",
    "    male_dataframe= dataframe_sorted[dataframe_sorted[\"gender\"]== \"m\"]\n",
    "\n",
    "    female_mean= female_dataframe[correct_answers].mean()\n",
    "    male_mean= male_dataframe[correct_answers].mean()\n",
    "    difference= female_mean- male_mean\n",
    "    female_se= stats.sem(female_dataframe[correct_answers])\n",
    "    male_se= stats.sem(male_dataframe[correct_answers])\n",
    "    t_test= stats.ttest_ind(female_dataframe[correct_answers].values, male_dataframe[correct_answers].values)\n",
    "    print(f\"{test_type} Test p value is {t_test.pvalue}.\")\n",
    "    \n",
    "    if t_test.pvalue<= 0.05:\n",
    "        print(\"Result is significant a the 0.05 level.\")\n",
    "        \n",
    "    else:\n",
    "        print(\"The result is not significant and we fail to detect a difference in means at the 0.05 level.\")\n",
    "\n",
    "    # Table for t-test information is made.\n",
    "    t_test_table[\"Test\"].append(test_type)\n",
    "    t_test_table[\"Mean score male\"].append(male_mean)\n",
    "    t_test_table[\"Male standard error\"].append(male_se)\n",
    "    t_test_table[\"Mean score female\"].append(female_mean)\n",
    "    t_test_table[\"Female standard error\"].append(female_se)\n",
    "    t_test_table[\"Difference in score\"].append(difference)\n",
    "    t_test_table[\"P value\"].append(t_test.pvalue)\n",
    "    table= input(\"Print t test table?\")\n",
    "            \n",
    "    if table== \"yes\":\n",
    "        t_test_table_df= pd.DataFrame(t_test_table)\n",
    "        final_table= t_test_table_df.pivot_table(values= [\"Mean score male\", \"Male standard error\", \"Mean score female\", \"Female standard error\", \"Difference in score\", \"P value\"], index= \"Test\")\n",
    "        display(final_table)\n",
    "        save= input(\"Type yes if you want to save your table.\")\n",
    "    \n",
    "        if save== \"yes\":\n",
    "            final_table.to_csv(\"t-test summary table.csv\")\n",
    "            \n",
    "    # Dot plot for t-test is created.        \n",
    "    fig = plt.figure()\n",
    "    ax = fig.add_subplot()\n",
    "    ax.plot(female_dataframe[\"gender\"], female_dataframe[correct_answers], \"o\", alpha= 0.3, color= \"red\")\n",
    "    ax.plot(male_dataframe[\"gender\"], male_dataframe[correct_answers], \"o\", alpha= 0.3, color= \"blue\")\n",
    "    ax.errorbar(\"f\", female_mean,  yerr= female_se,  marker= \"_\",  color= \"black\")\n",
    "    ax.errorbar(\"m\", male_mean,  yerr= male_se,  marker= \"_\",  color= \"black\")\n",
    "    ax.set_xlim(-1, 2)\n",
    "    ax.set_ylabel(\"Number of correct answers\")\n",
    "    ax.set_xlabel(\"Gender\")\n",
    "    ax.set_title(f\"Number of Correct Answers in {test_type} Test of Males vs Females\")\n",
    "    plt.show()\n",
    "\n",
    "def stats_analysis():\n",
    "    \n",
    "    test_type= \"\"\n",
    "    \n",
    "    # This is asked in order to put the correct title in the graph, as well as to select the correct csv file.\n",
    "    for i in range (2):\n",
    "        test_type = input(\"Please enter maths, memory, or ANS: \")\n",
    "        \n",
    "        if test_type== \"maths\":\n",
    "            test_type.title()\n",
    "            csv_file= \"Maths Data.csv\"\n",
    "            correct_answers= \"correct_answers\"\n",
    "\n",
    "        elif test_type== \"memory\":\n",
    "            test_type.title()\n",
    "            csv_file= \"memory Data.csv\"\n",
    "            correct_answers= \"n_correct_answers\"\n",
    "\n",
    "        elif test_type== \"ans\":\n",
    "            test_type.upper()\n",
    "            csv_file= \"\"\n",
    "            correct_answers= \"\"\n",
    "\n",
    "        elif test_type== \"quit\":\n",
    "            return\n",
    "    \n",
    "        print(\"Please enter which function you would like to use.\")\n",
    "        function= input(\"boxplot or t_test\")\n",
    "    \n",
    "        if function== \"boxplot\":\n",
    "            create_gender_boxplots(test_type, csv_file, correct_answers)\n",
    "\n",
    "        elif function== \"t_test\":\n",
    "            t_test_between_genders(test_type, csv_file, correct_answers)"
   ]
  },
  {
   "cell_type": "code",
   "execution_count": 106,
   "id": "36e839f6-85bc-4ad3-a510-0da55470e481",
   "metadata": {},
   "outputs": [
    {
     "name": "stdin",
     "output_type": "stream",
     "text": [
      "Please enter maths, memory, or ANS:  maths\n"
     ]
    },
    {
     "name": "stdout",
     "output_type": "stream",
     "text": [
      "Maths\n",
      "Please enter which function you would like to use.\n"
     ]
    },
    {
     "name": "stdin",
     "output_type": "stream",
     "text": [
      "boxplot or t_test \n",
      "Please enter maths, memory, or ANS:  \n"
     ]
    },
    {
     "name": "stdout",
     "output_type": "stream",
     "text": [
      "Please enter which function you would like to use.\n"
     ]
    },
    {
     "name": "stdin",
     "output_type": "stream",
     "text": [
      "boxplot or t_test \n"
     ]
    }
   ],
   "source": [
    "stats_analysis()"
   ]
  },
  {
   "cell_type": "code",
   "execution_count": null,
   "id": "b5f72d39-a690-4b13-9039-4d8839f609c5",
   "metadata": {},
   "outputs": [],
   "source": []
  }
 ],
 "metadata": {
  "kernelspec": {
   "display_name": "Python 3 (ipykernel)",
   "language": "python",
   "name": "python3"
  },
  "language_info": {
   "codemirror_mode": {
    "name": "ipython",
    "version": 3
   },
   "file_extension": ".py",
   "mimetype": "text/x-python",
   "name": "python",
   "nbconvert_exporter": "python",
   "pygments_lexer": "ipython3",
   "version": "3.8.18"
  }
 },
 "nbformat": 4,
 "nbformat_minor": 5
}
